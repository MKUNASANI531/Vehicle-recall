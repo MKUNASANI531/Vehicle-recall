{
  "nbformat": 4,
  "nbformat_minor": 0,
  "metadata": {
    "colab": {
      "provenance": []
    },
    "kernelspec": {
      "name": "python3",
      "display_name": "Python 3"
    },
    "language_info": {
      "name": "python"
    }
  },
  "cells": [
    {
      "cell_type": "markdown",
      "source": [
        "## Vehicle Recall ##\n",
        "\n",
        "1. Mahesh Kunasani\n",
        "2. Rajasekhar Gollamudi\n",
        "3. Aravind Reddy\n",
        "4. Phani Garlapati\n",
        "5. Bhanuprakash"
      ],
      "metadata": {
        "id": "3YwH5bHkBJJz"
      }
    },
    {
      "cell_type": "markdown",
      "source": [
        "**Importing all Necessary Libraries**"
      ],
      "metadata": {
        "id": "n93S9daEB-Fy"
      }
    },
    {
      "cell_type": "code",
      "execution_count": 34,
      "metadata": {
        "id": "l2k92Pj17yMq"
      },
      "outputs": [],
      "source": [
        "import numpy as np\n",
        "import pandas as pd"
      ]
    },
    {
      "cell_type": "markdown",
      "source": [
        "**Importing USA & CANADA Datasets**"
      ],
      "metadata": {
        "id": "00E5DWzXCPJK"
      }
    },
    {
      "cell_type": "code",
      "source": [
        "USdata = pd.read_excel('US Vehicle Recall.xlsx')"
      ],
      "metadata": {
        "id": "-NZebmHHCTkD"
      },
      "execution_count": 35,
      "outputs": []
    },
    {
      "cell_type": "code",
      "source": [
        "CAdata = pd.read_excel('CA Vehicle Recall.xlsx')"
      ],
      "metadata": {
        "id": "BXpGiLYVEtex"
      },
      "execution_count": 36,
      "outputs": []
    },
    {
      "cell_type": "markdown",
      "source": [
        "**Shape of Datasets**"
      ],
      "metadata": {
        "id": "y6H8yUqFFTuK"
      }
    },
    {
      "cell_type": "code",
      "source": [
        "USdata.shape"
      ],
      "metadata": {
        "colab": {
          "base_uri": "https://localhost:8080/"
        },
        "id": "l2baQQHTFdeg",
        "outputId": "8a096ccb-83da-4d89-a9f1-637bbea85e85"
      },
      "execution_count": 37,
      "outputs": [
        {
          "output_type": "execute_result",
          "data": {
            "text/plain": [
              "(23090, 12)"
            ]
          },
          "metadata": {},
          "execution_count": 37
        }
      ]
    },
    {
      "cell_type": "code",
      "source": [
        "CAdata.shape"
      ],
      "metadata": {
        "colab": {
          "base_uri": "https://localhost:8080/"
        },
        "id": "LeWdEY4UFkX9",
        "outputId": "4d3819b1-7650-43bc-bd06-b2a2f0a4ee78"
      },
      "execution_count": 38,
      "outputs": [
        {
          "output_type": "execute_result",
          "data": {
            "text/plain": [
              "(7729, 15)"
            ]
          },
          "metadata": {},
          "execution_count": 38
        }
      ]
    },
    {
      "cell_type": "markdown",
      "source": [
        "**Look at first 5 rows of Datasets**"
      ],
      "metadata": {
        "id": "LXOt90NvFpzn"
      }
    },
    {
      "cell_type": "code",
      "source": [
        "USdata.head(5)"
      ],
      "metadata": {
        "colab": {
          "base_uri": "https://localhost:8080/",
          "height": 545
        },
        "id": "Xfy_HPEdFuVc",
        "outputId": "57e59114-830c-4058-9f0f-dfbf776e2d59"
      },
      "execution_count": 39,
      "outputs": [
        {
          "output_type": "execute_result",
          "data": {
            "text/plain": [
              "  Report Received Date   NHTSA ID  \\\n",
              "0           2023-01-06  23V002000   \n",
              "1           2023-01-05  23V001000   \n",
              "2           2022-12-29  22V956000   \n",
              "3           2022-12-29  22V957000   \n",
              "4           2022-12-23  22V952000   \n",
              "\n",
              "                                         Recall Link  \\\n",
              "0  Go to Recall (https://www.nhtsa.gov/recalls?nh...   \n",
              "1  Go to Recall (https://www.nhtsa.gov/recalls?nh...   \n",
              "2  Go to Recall (https://www.nhtsa.gov/recalls?nh...   \n",
              "3  Go to Recall (https://www.nhtsa.gov/recalls?nh...   \n",
              "4  Go to Recall (https://www.nhtsa.gov/recalls?nh...   \n",
              "\n",
              "                        Manufacturer  \\\n",
              "0     Triple E Recreational Vehicles   \n",
              "1                 Volvo Car USA, LLC   \n",
              "2  Volkswagen Group of America, Inc.   \n",
              "3          Indian Motorcycle Company   \n",
              "4              Lion Electric Company   \n",
              "\n",
              "                                           Subject          Component  \\\n",
              "0              Battery Disconnect Switch May Short  ELECTRICAL SYSTEM   \n",
              "1                       Steering Wheel May Lock Up           STEERING   \n",
              "2          12-Volt Battery Cable May Short Circuit  ELECTRICAL SYSTEM   \n",
              "3     Kickstand May Not Retract Properly/FMVSS 123          STRUCTURE   \n",
              "4  Adjusting Ring Fasteners Not Tightened Properly         SUSPENSION   \n",
              "\n",
              "  Mfr Campaign Number Recall Type  Potentially Affected  \\\n",
              "0          CA#10253-1     Vehicle                 341.0   \n",
              "1              R10213     Vehicle                  74.0   \n",
              "2                97HA     Vehicle                1042.0   \n",
              "3             I-23-01     Vehicle                4653.0   \n",
              "4   NR (Not Reported)     Vehicle                  13.0   \n",
              "\n",
              "                                  Recall Description  \\\n",
              "0  Triple E Recreational Vehicles (Triple E) is r...   \n",
              "1  Volvo Car USA, LLC (Volvo Car) is recalling ce...   \n",
              "2  Volkswagen Group of America, Inc. (Volkswagen)...   \n",
              "3  Indian Motorcycle Company (Indian) is recallin...   \n",
              "4  Lion Electric Company (Lion) is recalling cert...   \n",
              "\n",
              "                                 Consequence Summary  \\\n",
              "0  An electrical short-circuit can increase the r...   \n",
              "1  A screw inside the gearbox housing can cause t...   \n",
              "2  A short circuit may cause a loss of drive powe...   \n",
              "3  A kickstand that does not properly retract can...   \n",
              "4  The suspension can separate from the frame, ca...   \n",
              "\n",
              "                                   Corrective Action  \n",
              "0  Dealers will install two rubber terminal post ...  \n",
              "1  Dealers will replace the steering gear, free o...  \n",
              "2  Owners are advised to park outside and away fr...  \n",
              "3  The remedy is currently under development.  Ow...  \n",
              "4  Lion will inspect and tighten the fasteners as...  "
            ],
            "text/html": [
              "\n",
              "  <div id=\"df-85bb6339-011f-4ca0-86e5-d365b8b66b7b\">\n",
              "    <div class=\"colab-df-container\">\n",
              "      <div>\n",
              "<style scoped>\n",
              "    .dataframe tbody tr th:only-of-type {\n",
              "        vertical-align: middle;\n",
              "    }\n",
              "\n",
              "    .dataframe tbody tr th {\n",
              "        vertical-align: top;\n",
              "    }\n",
              "\n",
              "    .dataframe thead th {\n",
              "        text-align: right;\n",
              "    }\n",
              "</style>\n",
              "<table border=\"1\" class=\"dataframe\">\n",
              "  <thead>\n",
              "    <tr style=\"text-align: right;\">\n",
              "      <th></th>\n",
              "      <th>Report Received Date</th>\n",
              "      <th>NHTSA ID</th>\n",
              "      <th>Recall Link</th>\n",
              "      <th>Manufacturer</th>\n",
              "      <th>Subject</th>\n",
              "      <th>Component</th>\n",
              "      <th>Mfr Campaign Number</th>\n",
              "      <th>Recall Type</th>\n",
              "      <th>Potentially Affected</th>\n",
              "      <th>Recall Description</th>\n",
              "      <th>Consequence Summary</th>\n",
              "      <th>Corrective Action</th>\n",
              "    </tr>\n",
              "  </thead>\n",
              "  <tbody>\n",
              "    <tr>\n",
              "      <th>0</th>\n",
              "      <td>2023-01-06</td>\n",
              "      <td>23V002000</td>\n",
              "      <td>Go to Recall (https://www.nhtsa.gov/recalls?nh...</td>\n",
              "      <td>Triple E Recreational Vehicles</td>\n",
              "      <td>Battery Disconnect Switch May Short</td>\n",
              "      <td>ELECTRICAL SYSTEM</td>\n",
              "      <td>CA#10253-1</td>\n",
              "      <td>Vehicle</td>\n",
              "      <td>341.0</td>\n",
              "      <td>Triple E Recreational Vehicles (Triple E) is r...</td>\n",
              "      <td>An electrical short-circuit can increase the r...</td>\n",
              "      <td>Dealers will install two rubber terminal post ...</td>\n",
              "    </tr>\n",
              "    <tr>\n",
              "      <th>1</th>\n",
              "      <td>2023-01-05</td>\n",
              "      <td>23V001000</td>\n",
              "      <td>Go to Recall (https://www.nhtsa.gov/recalls?nh...</td>\n",
              "      <td>Volvo Car USA, LLC</td>\n",
              "      <td>Steering Wheel May Lock Up</td>\n",
              "      <td>STEERING</td>\n",
              "      <td>R10213</td>\n",
              "      <td>Vehicle</td>\n",
              "      <td>74.0</td>\n",
              "      <td>Volvo Car USA, LLC (Volvo Car) is recalling ce...</td>\n",
              "      <td>A screw inside the gearbox housing can cause t...</td>\n",
              "      <td>Dealers will replace the steering gear, free o...</td>\n",
              "    </tr>\n",
              "    <tr>\n",
              "      <th>2</th>\n",
              "      <td>2022-12-29</td>\n",
              "      <td>22V956000</td>\n",
              "      <td>Go to Recall (https://www.nhtsa.gov/recalls?nh...</td>\n",
              "      <td>Volkswagen Group of America, Inc.</td>\n",
              "      <td>12-Volt Battery Cable May Short Circuit</td>\n",
              "      <td>ELECTRICAL SYSTEM</td>\n",
              "      <td>97HA</td>\n",
              "      <td>Vehicle</td>\n",
              "      <td>1042.0</td>\n",
              "      <td>Volkswagen Group of America, Inc. (Volkswagen)...</td>\n",
              "      <td>A short circuit may cause a loss of drive powe...</td>\n",
              "      <td>Owners are advised to park outside and away fr...</td>\n",
              "    </tr>\n",
              "    <tr>\n",
              "      <th>3</th>\n",
              "      <td>2022-12-29</td>\n",
              "      <td>22V957000</td>\n",
              "      <td>Go to Recall (https://www.nhtsa.gov/recalls?nh...</td>\n",
              "      <td>Indian Motorcycle Company</td>\n",
              "      <td>Kickstand May Not Retract Properly/FMVSS 123</td>\n",
              "      <td>STRUCTURE</td>\n",
              "      <td>I-23-01</td>\n",
              "      <td>Vehicle</td>\n",
              "      <td>4653.0</td>\n",
              "      <td>Indian Motorcycle Company (Indian) is recallin...</td>\n",
              "      <td>A kickstand that does not properly retract can...</td>\n",
              "      <td>The remedy is currently under development.  Ow...</td>\n",
              "    </tr>\n",
              "    <tr>\n",
              "      <th>4</th>\n",
              "      <td>2022-12-23</td>\n",
              "      <td>22V952000</td>\n",
              "      <td>Go to Recall (https://www.nhtsa.gov/recalls?nh...</td>\n",
              "      <td>Lion Electric Company</td>\n",
              "      <td>Adjusting Ring Fasteners Not Tightened Properly</td>\n",
              "      <td>SUSPENSION</td>\n",
              "      <td>NR (Not Reported)</td>\n",
              "      <td>Vehicle</td>\n",
              "      <td>13.0</td>\n",
              "      <td>Lion Electric Company (Lion) is recalling cert...</td>\n",
              "      <td>The suspension can separate from the frame, ca...</td>\n",
              "      <td>Lion will inspect and tighten the fasteners as...</td>\n",
              "    </tr>\n",
              "  </tbody>\n",
              "</table>\n",
              "</div>\n",
              "      <button class=\"colab-df-convert\" onclick=\"convertToInteractive('df-85bb6339-011f-4ca0-86e5-d365b8b66b7b')\"\n",
              "              title=\"Convert this dataframe to an interactive table.\"\n",
              "              style=\"display:none;\">\n",
              "        \n",
              "  <svg xmlns=\"http://www.w3.org/2000/svg\" height=\"24px\"viewBox=\"0 0 24 24\"\n",
              "       width=\"24px\">\n",
              "    <path d=\"M0 0h24v24H0V0z\" fill=\"none\"/>\n",
              "    <path d=\"M18.56 5.44l.94 2.06.94-2.06 2.06-.94-2.06-.94-.94-2.06-.94 2.06-2.06.94zm-11 1L8.5 8.5l.94-2.06 2.06-.94-2.06-.94L8.5 2.5l-.94 2.06-2.06.94zm10 10l.94 2.06.94-2.06 2.06-.94-2.06-.94-.94-2.06-.94 2.06-2.06.94z\"/><path d=\"M17.41 7.96l-1.37-1.37c-.4-.4-.92-.59-1.43-.59-.52 0-1.04.2-1.43.59L10.3 9.45l-7.72 7.72c-.78.78-.78 2.05 0 2.83L4 21.41c.39.39.9.59 1.41.59.51 0 1.02-.2 1.41-.59l7.78-7.78 2.81-2.81c.8-.78.8-2.07 0-2.86zM5.41 20L4 18.59l7.72-7.72 1.47 1.35L5.41 20z\"/>\n",
              "  </svg>\n",
              "      </button>\n",
              "      \n",
              "  <style>\n",
              "    .colab-df-container {\n",
              "      display:flex;\n",
              "      flex-wrap:wrap;\n",
              "      gap: 12px;\n",
              "    }\n",
              "\n",
              "    .colab-df-convert {\n",
              "      background-color: #E8F0FE;\n",
              "      border: none;\n",
              "      border-radius: 50%;\n",
              "      cursor: pointer;\n",
              "      display: none;\n",
              "      fill: #1967D2;\n",
              "      height: 32px;\n",
              "      padding: 0 0 0 0;\n",
              "      width: 32px;\n",
              "    }\n",
              "\n",
              "    .colab-df-convert:hover {\n",
              "      background-color: #E2EBFA;\n",
              "      box-shadow: 0px 1px 2px rgba(60, 64, 67, 0.3), 0px 1px 3px 1px rgba(60, 64, 67, 0.15);\n",
              "      fill: #174EA6;\n",
              "    }\n",
              "\n",
              "    [theme=dark] .colab-df-convert {\n",
              "      background-color: #3B4455;\n",
              "      fill: #D2E3FC;\n",
              "    }\n",
              "\n",
              "    [theme=dark] .colab-df-convert:hover {\n",
              "      background-color: #434B5C;\n",
              "      box-shadow: 0px 1px 3px 1px rgba(0, 0, 0, 0.15);\n",
              "      filter: drop-shadow(0px 1px 2px rgba(0, 0, 0, 0.3));\n",
              "      fill: #FFFFFF;\n",
              "    }\n",
              "  </style>\n",
              "\n",
              "      <script>\n",
              "        const buttonEl =\n",
              "          document.querySelector('#df-85bb6339-011f-4ca0-86e5-d365b8b66b7b button.colab-df-convert');\n",
              "        buttonEl.style.display =\n",
              "          google.colab.kernel.accessAllowed ? 'block' : 'none';\n",
              "\n",
              "        async function convertToInteractive(key) {\n",
              "          const element = document.querySelector('#df-85bb6339-011f-4ca0-86e5-d365b8b66b7b');\n",
              "          const dataTable =\n",
              "            await google.colab.kernel.invokeFunction('convertToInteractive',\n",
              "                                                     [key], {});\n",
              "          if (!dataTable) return;\n",
              "\n",
              "          const docLinkHtml = 'Like what you see? Visit the ' +\n",
              "            '<a target=\"_blank\" href=https://colab.research.google.com/notebooks/data_table.ipynb>data table notebook</a>'\n",
              "            + ' to learn more about interactive tables.';\n",
              "          element.innerHTML = '';\n",
              "          dataTable['output_type'] = 'display_data';\n",
              "          await google.colab.output.renderOutput(dataTable, element);\n",
              "          const docLink = document.createElement('div');\n",
              "          docLink.innerHTML = docLinkHtml;\n",
              "          element.appendChild(docLink);\n",
              "        }\n",
              "      </script>\n",
              "    </div>\n",
              "  </div>\n",
              "  "
            ]
          },
          "metadata": {},
          "execution_count": 39
        }
      ]
    },
    {
      "cell_type": "code",
      "source": [
        "CAdata.head(5)"
      ],
      "metadata": {
        "colab": {
          "base_uri": "https://localhost:8080/",
          "height": 565
        },
        "id": "cQLu433HF4fH",
        "outputId": "76ee635d-375c-4339-972e-9de971b612ce"
      },
      "execution_count": 40,
      "outputs": [
        {
          "output_type": "execute_result",
          "data": {
            "text/plain": [
              "   RECALL_NUMBER_NUM  YEAR MANUFACTURER_RECALL_NO_TXT CATEGORY_ETXT  \\\n",
              "0            2015238  2016                     R89571           SUV   \n",
              "1            2015253  2016                       J053           Car   \n",
              "2            2015319  2016                      R0099           Car   \n",
              "3            2015321  2016                      15C07           SUV   \n",
              "4            2015321  2016                      15C07           Car   \n",
              "\n",
              "               CATEGORY_FTXT MAKE_NAME_NM MODEL_NAME_NM  UNIT_AFFECTED_NBR  \\\n",
              "0  Véhicule utilitaire-sport        VOLVO          XC90                  9   \n",
              "1                    Voiture       JAGUAR        F-TYPE                 12   \n",
              "2                    Voiture      HYUNDAI       ELANTRA               3908   \n",
              "3  Véhicule utilitaire-sport         FORD      EXPLORER                799   \n",
              "4                    Voiture         FORD      EXPLORER                799   \n",
              "\n",
              "  SYSTEM_TYPE_ETXT   SYSTEM_TYPE_FTXT NOTIFICATION_TYPE_ETXT  \\\n",
              "0           Airbag  Coussin gonflable             Safety Mfr   \n",
              "1       Suspension         Suspension             Safety Mfr   \n",
              "2            Label          Étiquette             Safety Mfr   \n",
              "3           Brakes             Freins         Compliance Mfr   \n",
              "4           Brakes             Freins         Compliance Mfr   \n",
              "\n",
              "   NOTIFICATION_TYPE_FTXT                                       COMMENT_ETXT  \\\n",
              "0    Sécurité - fabricant  On certain vehicles, the Supplemental Restrain...   \n",
              "1    Sécurité - fabricant  Certain vehicles may have been manufactured wi...   \n",
              "2    Sécurité - fabricant  Certain vehicles may not comply with Canadian ...   \n",
              "3  Conformité - fabricant  Certain vehicles fail to comply with the requi...   \n",
              "4  Conformité - fabricant  Certain vehicles fail to comply with the requi...   \n",
              "\n",
              "                                        COMMENT_FTXT RECALL_DATE_DTE  \n",
              "0  Sur certains véhicules, le faisceau de câbles ...      2015-05-29  \n",
              "1  Certains véhicules pourraient avoir été fabriq...      2015-06-05  \n",
              "2  Certains véhicules pourraient ne pas satisfair...      2015-07-20  \n",
              "3  Certains véhicules ne satisfont pas aux exigen...      2015-07-21  \n",
              "4  Certains véhicules ne satisfont pas aux exigen...      2015-07-21  "
            ],
            "text/html": [
              "\n",
              "  <div id=\"df-dfd38440-74d7-4006-b2e3-7ee84af2a939\">\n",
              "    <div class=\"colab-df-container\">\n",
              "      <div>\n",
              "<style scoped>\n",
              "    .dataframe tbody tr th:only-of-type {\n",
              "        vertical-align: middle;\n",
              "    }\n",
              "\n",
              "    .dataframe tbody tr th {\n",
              "        vertical-align: top;\n",
              "    }\n",
              "\n",
              "    .dataframe thead th {\n",
              "        text-align: right;\n",
              "    }\n",
              "</style>\n",
              "<table border=\"1\" class=\"dataframe\">\n",
              "  <thead>\n",
              "    <tr style=\"text-align: right;\">\n",
              "      <th></th>\n",
              "      <th>RECALL_NUMBER_NUM</th>\n",
              "      <th>YEAR</th>\n",
              "      <th>MANUFACTURER_RECALL_NO_TXT</th>\n",
              "      <th>CATEGORY_ETXT</th>\n",
              "      <th>CATEGORY_FTXT</th>\n",
              "      <th>MAKE_NAME_NM</th>\n",
              "      <th>MODEL_NAME_NM</th>\n",
              "      <th>UNIT_AFFECTED_NBR</th>\n",
              "      <th>SYSTEM_TYPE_ETXT</th>\n",
              "      <th>SYSTEM_TYPE_FTXT</th>\n",
              "      <th>NOTIFICATION_TYPE_ETXT</th>\n",
              "      <th>NOTIFICATION_TYPE_FTXT</th>\n",
              "      <th>COMMENT_ETXT</th>\n",
              "      <th>COMMENT_FTXT</th>\n",
              "      <th>RECALL_DATE_DTE</th>\n",
              "    </tr>\n",
              "  </thead>\n",
              "  <tbody>\n",
              "    <tr>\n",
              "      <th>0</th>\n",
              "      <td>2015238</td>\n",
              "      <td>2016</td>\n",
              "      <td>R89571</td>\n",
              "      <td>SUV</td>\n",
              "      <td>Véhicule utilitaire-sport</td>\n",
              "      <td>VOLVO</td>\n",
              "      <td>XC90</td>\n",
              "      <td>9</td>\n",
              "      <td>Airbag</td>\n",
              "      <td>Coussin gonflable</td>\n",
              "      <td>Safety Mfr</td>\n",
              "      <td>Sécurité - fabricant</td>\n",
              "      <td>On certain vehicles, the Supplemental Restrain...</td>\n",
              "      <td>Sur certains véhicules, le faisceau de câbles ...</td>\n",
              "      <td>2015-05-29</td>\n",
              "    </tr>\n",
              "    <tr>\n",
              "      <th>1</th>\n",
              "      <td>2015253</td>\n",
              "      <td>2016</td>\n",
              "      <td>J053</td>\n",
              "      <td>Car</td>\n",
              "      <td>Voiture</td>\n",
              "      <td>JAGUAR</td>\n",
              "      <td>F-TYPE</td>\n",
              "      <td>12</td>\n",
              "      <td>Suspension</td>\n",
              "      <td>Suspension</td>\n",
              "      <td>Safety Mfr</td>\n",
              "      <td>Sécurité - fabricant</td>\n",
              "      <td>Certain vehicles may have been manufactured wi...</td>\n",
              "      <td>Certains véhicules pourraient avoir été fabriq...</td>\n",
              "      <td>2015-06-05</td>\n",
              "    </tr>\n",
              "    <tr>\n",
              "      <th>2</th>\n",
              "      <td>2015319</td>\n",
              "      <td>2016</td>\n",
              "      <td>R0099</td>\n",
              "      <td>Car</td>\n",
              "      <td>Voiture</td>\n",
              "      <td>HYUNDAI</td>\n",
              "      <td>ELANTRA</td>\n",
              "      <td>3908</td>\n",
              "      <td>Label</td>\n",
              "      <td>Étiquette</td>\n",
              "      <td>Safety Mfr</td>\n",
              "      <td>Sécurité - fabricant</td>\n",
              "      <td>Certain vehicles may not comply with Canadian ...</td>\n",
              "      <td>Certains véhicules pourraient ne pas satisfair...</td>\n",
              "      <td>2015-07-20</td>\n",
              "    </tr>\n",
              "    <tr>\n",
              "      <th>3</th>\n",
              "      <td>2015321</td>\n",
              "      <td>2016</td>\n",
              "      <td>15C07</td>\n",
              "      <td>SUV</td>\n",
              "      <td>Véhicule utilitaire-sport</td>\n",
              "      <td>FORD</td>\n",
              "      <td>EXPLORER</td>\n",
              "      <td>799</td>\n",
              "      <td>Brakes</td>\n",
              "      <td>Freins</td>\n",
              "      <td>Compliance Mfr</td>\n",
              "      <td>Conformité - fabricant</td>\n",
              "      <td>Certain vehicles fail to comply with the requi...</td>\n",
              "      <td>Certains véhicules ne satisfont pas aux exigen...</td>\n",
              "      <td>2015-07-21</td>\n",
              "    </tr>\n",
              "    <tr>\n",
              "      <th>4</th>\n",
              "      <td>2015321</td>\n",
              "      <td>2016</td>\n",
              "      <td>15C07</td>\n",
              "      <td>Car</td>\n",
              "      <td>Voiture</td>\n",
              "      <td>FORD</td>\n",
              "      <td>EXPLORER</td>\n",
              "      <td>799</td>\n",
              "      <td>Brakes</td>\n",
              "      <td>Freins</td>\n",
              "      <td>Compliance Mfr</td>\n",
              "      <td>Conformité - fabricant</td>\n",
              "      <td>Certain vehicles fail to comply with the requi...</td>\n",
              "      <td>Certains véhicules ne satisfont pas aux exigen...</td>\n",
              "      <td>2015-07-21</td>\n",
              "    </tr>\n",
              "  </tbody>\n",
              "</table>\n",
              "</div>\n",
              "      <button class=\"colab-df-convert\" onclick=\"convertToInteractive('df-dfd38440-74d7-4006-b2e3-7ee84af2a939')\"\n",
              "              title=\"Convert this dataframe to an interactive table.\"\n",
              "              style=\"display:none;\">\n",
              "        \n",
              "  <svg xmlns=\"http://www.w3.org/2000/svg\" height=\"24px\"viewBox=\"0 0 24 24\"\n",
              "       width=\"24px\">\n",
              "    <path d=\"M0 0h24v24H0V0z\" fill=\"none\"/>\n",
              "    <path d=\"M18.56 5.44l.94 2.06.94-2.06 2.06-.94-2.06-.94-.94-2.06-.94 2.06-2.06.94zm-11 1L8.5 8.5l.94-2.06 2.06-.94-2.06-.94L8.5 2.5l-.94 2.06-2.06.94zm10 10l.94 2.06.94-2.06 2.06-.94-2.06-.94-.94-2.06-.94 2.06-2.06.94z\"/><path d=\"M17.41 7.96l-1.37-1.37c-.4-.4-.92-.59-1.43-.59-.52 0-1.04.2-1.43.59L10.3 9.45l-7.72 7.72c-.78.78-.78 2.05 0 2.83L4 21.41c.39.39.9.59 1.41.59.51 0 1.02-.2 1.41-.59l7.78-7.78 2.81-2.81c.8-.78.8-2.07 0-2.86zM5.41 20L4 18.59l7.72-7.72 1.47 1.35L5.41 20z\"/>\n",
              "  </svg>\n",
              "      </button>\n",
              "      \n",
              "  <style>\n",
              "    .colab-df-container {\n",
              "      display:flex;\n",
              "      flex-wrap:wrap;\n",
              "      gap: 12px;\n",
              "    }\n",
              "\n",
              "    .colab-df-convert {\n",
              "      background-color: #E8F0FE;\n",
              "      border: none;\n",
              "      border-radius: 50%;\n",
              "      cursor: pointer;\n",
              "      display: none;\n",
              "      fill: #1967D2;\n",
              "      height: 32px;\n",
              "      padding: 0 0 0 0;\n",
              "      width: 32px;\n",
              "    }\n",
              "\n",
              "    .colab-df-convert:hover {\n",
              "      background-color: #E2EBFA;\n",
              "      box-shadow: 0px 1px 2px rgba(60, 64, 67, 0.3), 0px 1px 3px 1px rgba(60, 64, 67, 0.15);\n",
              "      fill: #174EA6;\n",
              "    }\n",
              "\n",
              "    [theme=dark] .colab-df-convert {\n",
              "      background-color: #3B4455;\n",
              "      fill: #D2E3FC;\n",
              "    }\n",
              "\n",
              "    [theme=dark] .colab-df-convert:hover {\n",
              "      background-color: #434B5C;\n",
              "      box-shadow: 0px 1px 3px 1px rgba(0, 0, 0, 0.15);\n",
              "      filter: drop-shadow(0px 1px 2px rgba(0, 0, 0, 0.3));\n",
              "      fill: #FFFFFF;\n",
              "    }\n",
              "  </style>\n",
              "\n",
              "      <script>\n",
              "        const buttonEl =\n",
              "          document.querySelector('#df-dfd38440-74d7-4006-b2e3-7ee84af2a939 button.colab-df-convert');\n",
              "        buttonEl.style.display =\n",
              "          google.colab.kernel.accessAllowed ? 'block' : 'none';\n",
              "\n",
              "        async function convertToInteractive(key) {\n",
              "          const element = document.querySelector('#df-dfd38440-74d7-4006-b2e3-7ee84af2a939');\n",
              "          const dataTable =\n",
              "            await google.colab.kernel.invokeFunction('convertToInteractive',\n",
              "                                                     [key], {});\n",
              "          if (!dataTable) return;\n",
              "\n",
              "          const docLinkHtml = 'Like what you see? Visit the ' +\n",
              "            '<a target=\"_blank\" href=https://colab.research.google.com/notebooks/data_table.ipynb>data table notebook</a>'\n",
              "            + ' to learn more about interactive tables.';\n",
              "          element.innerHTML = '';\n",
              "          dataTable['output_type'] = 'display_data';\n",
              "          await google.colab.output.renderOutput(dataTable, element);\n",
              "          const docLink = document.createElement('div');\n",
              "          docLink.innerHTML = docLinkHtml;\n",
              "          element.appendChild(docLink);\n",
              "        }\n",
              "      </script>\n",
              "    </div>\n",
              "  </div>\n",
              "  "
            ]
          },
          "metadata": {},
          "execution_count": 40
        }
      ]
    },
    {
      "cell_type": "markdown",
      "source": [
        "**Knowing the Dataset**"
      ],
      "metadata": {
        "id": "720FgOjLGRfC"
      }
    },
    {
      "cell_type": "code",
      "source": [
        "USdata.info()"
      ],
      "metadata": {
        "colab": {
          "base_uri": "https://localhost:8080/"
        },
        "id": "nXsEBzipGOO_",
        "outputId": "69038311-9778-47f3-cdf9-f01d36e4c336"
      },
      "execution_count": 41,
      "outputs": [
        {
          "output_type": "stream",
          "name": "stdout",
          "text": [
            "<class 'pandas.core.frame.DataFrame'>\n",
            "RangeIndex: 23090 entries, 0 to 23089\n",
            "Data columns (total 12 columns):\n",
            " #   Column                Non-Null Count  Dtype         \n",
            "---  ------                --------------  -----         \n",
            " 0   Report Received Date  23090 non-null  datetime64[ns]\n",
            " 1   NHTSA ID              23090 non-null  object        \n",
            " 2   Recall Link           23090 non-null  object        \n",
            " 3   Manufacturer          23090 non-null  object        \n",
            " 4   Subject               23090 non-null  object        \n",
            " 5   Component             23090 non-null  object        \n",
            " 6   Mfr Campaign Number   23077 non-null  object        \n",
            " 7   Recall Type           23090 non-null  object        \n",
            " 8   Potentially Affected  23056 non-null  float64       \n",
            " 9   Recall Description    20912 non-null  object        \n",
            " 10  Consequence Summary   18969 non-null  object        \n",
            " 11  Corrective Action     20925 non-null  object        \n",
            "dtypes: datetime64[ns](1), float64(1), object(10)\n",
            "memory usage: 2.1+ MB\n"
          ]
        }
      ]
    },
    {
      "cell_type": "code",
      "source": [
        "CAdata.info()"
      ],
      "metadata": {
        "colab": {
          "base_uri": "https://localhost:8080/"
        },
        "id": "3S1Ak81tPbN4",
        "outputId": "6ff07cd1-f307-4aad-920c-8e72c6f961a3"
      },
      "execution_count": 42,
      "outputs": [
        {
          "output_type": "stream",
          "name": "stdout",
          "text": [
            "<class 'pandas.core.frame.DataFrame'>\n",
            "RangeIndex: 7729 entries, 0 to 7728\n",
            "Data columns (total 15 columns):\n",
            " #   Column                      Non-Null Count  Dtype         \n",
            "---  ------                      --------------  -----         \n",
            " 0   RECALL_NUMBER_NUM           7729 non-null   int64         \n",
            " 1   YEAR                        7729 non-null   int64         \n",
            " 2   MANUFACTURER_RECALL_NO_TXT  6688 non-null   object        \n",
            " 3   CATEGORY_ETXT               7729 non-null   object        \n",
            " 4   CATEGORY_FTXT               7729 non-null   object        \n",
            " 5   MAKE_NAME_NM                7729 non-null   object        \n",
            " 6   MODEL_NAME_NM               7729 non-null   object        \n",
            " 7   UNIT_AFFECTED_NBR           7729 non-null   int64         \n",
            " 8   SYSTEM_TYPE_ETXT            7729 non-null   object        \n",
            " 9   SYSTEM_TYPE_FTXT            7729 non-null   object        \n",
            " 10  NOTIFICATION_TYPE_ETXT      7729 non-null   object        \n",
            " 11  NOTIFICATION_TYPE_FTXT      7729 non-null   object        \n",
            " 12  COMMENT_ETXT                7729 non-null   object        \n",
            " 13  COMMENT_FTXT                7729 non-null   object        \n",
            " 14  RECALL_DATE_DTE             7729 non-null   datetime64[ns]\n",
            "dtypes: datetime64[ns](1), int64(3), object(11)\n",
            "memory usage: 905.9+ KB\n"
          ]
        }
      ]
    },
    {
      "cell_type": "markdown",
      "source": [
        "# DATA CLEANING"
      ],
      "metadata": {
        "id": "mEtT6UMDGnei"
      }
    },
    {
      "cell_type": "markdown",
      "source": [
        "**Removing unnecessary columns from the datasets**"
      ],
      "metadata": {
        "id": "1PcHhW8-NWRO"
      }
    },
    {
      "cell_type": "code",
      "source": [
        "USdata = USdata.drop(columns=['NHTSA ID', 'Recall Link', 'Mfr Campaign Number'], axis = 1)"
      ],
      "metadata": {
        "id": "wMEC0CU6GvSQ"
      },
      "execution_count": 43,
      "outputs": []
    },
    {
      "cell_type": "code",
      "source": [
        "USdata.columns = USdata.columns.str.lower().str.replace('&', '_').str.replace(' ', '_')"
      ],
      "metadata": {
        "id": "jaa8HqByS_WK"
      },
      "execution_count": 44,
      "outputs": []
    },
    {
      "cell_type": "code",
      "source": [
        "USdata = USdata[(USdata['report_received_date'] > '2016-01-01') & (USdata['report_received_date'] < '2022-12-31')]"
      ],
      "metadata": {
        "id": "8-iUCUCaV8gj"
      },
      "execution_count": 45,
      "outputs": []
    },
    {
      "cell_type": "code",
      "source": [
        "USdata.info()"
      ],
      "metadata": {
        "colab": {
          "base_uri": "https://localhost:8080/"
        },
        "id": "6Xms_lf9TFIU",
        "outputId": "b04c4727-6bd1-4c75-afb2-49097ea69fce"
      },
      "execution_count": 46,
      "outputs": [
        {
          "output_type": "stream",
          "name": "stdout",
          "text": [
            "<class 'pandas.core.frame.DataFrame'>\n",
            "Int64Index: 6223 entries, 2 to 6224\n",
            "Data columns (total 9 columns):\n",
            " #   Column                Non-Null Count  Dtype         \n",
            "---  ------                --------------  -----         \n",
            " 0   report_received_date  6223 non-null   datetime64[ns]\n",
            " 1   manufacturer          6223 non-null   object        \n",
            " 2   subject               6223 non-null   object        \n",
            " 3   component             6223 non-null   object        \n",
            " 4   recall_type           6223 non-null   object        \n",
            " 5   potentially_affected  6223 non-null   float64       \n",
            " 6   recall_description    6223 non-null   object        \n",
            " 7   consequence_summary   6223 non-null   object        \n",
            " 8   corrective_action     6223 non-null   object        \n",
            "dtypes: datetime64[ns](1), float64(1), object(7)\n",
            "memory usage: 486.2+ KB\n"
          ]
        }
      ]
    },
    {
      "cell_type": "code",
      "source": [
        "CAdata = CAdata.drop(columns=['RECALL_NUMBER_NUM', 'MANUFACTURER_RECALL_NO_TXT', 'CATEGORY_FTXT', 'SYSTEM_TYPE_FTXT', 'NOTIFICATION_TYPE_FTXT', 'COMMENT_FTXT'], axis = 1)"
      ],
      "metadata": {
        "id": "TRrrbiZlPMzQ"
      },
      "execution_count": 47,
      "outputs": []
    },
    {
      "cell_type": "code",
      "source": [
        "CAdata.info()"
      ],
      "metadata": {
        "colab": {
          "base_uri": "https://localhost:8080/"
        },
        "id": "34U8RHWdQSVq",
        "outputId": "52833a0b-541c-412a-c43b-6701a6e462eb"
      },
      "execution_count": 48,
      "outputs": [
        {
          "output_type": "stream",
          "name": "stdout",
          "text": [
            "<class 'pandas.core.frame.DataFrame'>\n",
            "RangeIndex: 7729 entries, 0 to 7728\n",
            "Data columns (total 9 columns):\n",
            " #   Column                  Non-Null Count  Dtype         \n",
            "---  ------                  --------------  -----         \n",
            " 0   YEAR                    7729 non-null   int64         \n",
            " 1   CATEGORY_ETXT           7729 non-null   object        \n",
            " 2   MAKE_NAME_NM            7729 non-null   object        \n",
            " 3   MODEL_NAME_NM           7729 non-null   object        \n",
            " 4   UNIT_AFFECTED_NBR       7729 non-null   int64         \n",
            " 5   SYSTEM_TYPE_ETXT        7729 non-null   object        \n",
            " 6   NOTIFICATION_TYPE_ETXT  7729 non-null   object        \n",
            " 7   COMMENT_ETXT            7729 non-null   object        \n",
            " 8   RECALL_DATE_DTE         7729 non-null   datetime64[ns]\n",
            "dtypes: datetime64[ns](1), int64(2), object(6)\n",
            "memory usage: 543.6+ KB\n"
          ]
        }
      ]
    },
    {
      "cell_type": "markdown",
      "source": [
        "# DATA EXPLORATION"
      ],
      "metadata": {
        "id": "N-O-SPDIQ4XK"
      }
    },
    {
      "cell_type": "markdown",
      "source": [
        "**Ford Motor Company**"
      ],
      "metadata": {
        "id": "QqEqlk5-siUe"
      }
    },
    {
      "cell_type": "code",
      "source": [
        "USdataford = USdata[(USdata.manufacturer == \"Ford Motor Company\")]"
      ],
      "metadata": {
        "id": "wfYchJPIWfmz"
      },
      "execution_count": 49,
      "outputs": []
    },
    {
      "cell_type": "code",
      "source": [
        "USdataford=USdataford.query('potentially_affected == potentially_affected.max()')"
      ],
      "metadata": {
        "id": "-DYtwdNFY6j0"
      },
      "execution_count": 50,
      "outputs": []
    },
    {
      "cell_type": "code",
      "source": [
        "USdataford"
      ],
      "metadata": {
        "colab": {
          "base_uri": "https://localhost:8080/",
          "height": 159
        },
        "id": "8cwObA2xbDQo",
        "outputId": "20b4d5e0-be45-4f46-8a96-a642b75ccb86"
      },
      "execution_count": 51,
      "outputs": [
        {
          "output_type": "execute_result",
          "data": {
            "text/plain": [
              "    report_received_date        manufacturer  \\\n",
              "529           2022-06-10  Ford Motor Company   \n",
              "\n",
              "                                               subject    component  \\\n",
              "529  Unintentional Rollaway Due to Detached Shift C...  POWER TRAIN   \n",
              "\n",
              "    recall_type  potentially_affected  \\\n",
              "529     Vehicle             2925968.0   \n",
              "\n",
              "                                    recall_description  \\\n",
              "529  Ford Motor Company (Ford) is recalling certain...   \n",
              "\n",
              "                                   consequence_summary  \\\n",
              "529  A damaged or missing bushing may prevent the v...   \n",
              "\n",
              "                                     corrective_action  \n",
              "529  Dealers will replace the under hood shift bush...  "
            ],
            "text/html": [
              "\n",
              "  <div id=\"df-05752db8-7e11-4a96-9c8f-86d32a12fd1a\">\n",
              "    <div class=\"colab-df-container\">\n",
              "      <div>\n",
              "<style scoped>\n",
              "    .dataframe tbody tr th:only-of-type {\n",
              "        vertical-align: middle;\n",
              "    }\n",
              "\n",
              "    .dataframe tbody tr th {\n",
              "        vertical-align: top;\n",
              "    }\n",
              "\n",
              "    .dataframe thead th {\n",
              "        text-align: right;\n",
              "    }\n",
              "</style>\n",
              "<table border=\"1\" class=\"dataframe\">\n",
              "  <thead>\n",
              "    <tr style=\"text-align: right;\">\n",
              "      <th></th>\n",
              "      <th>report_received_date</th>\n",
              "      <th>manufacturer</th>\n",
              "      <th>subject</th>\n",
              "      <th>component</th>\n",
              "      <th>recall_type</th>\n",
              "      <th>potentially_affected</th>\n",
              "      <th>recall_description</th>\n",
              "      <th>consequence_summary</th>\n",
              "      <th>corrective_action</th>\n",
              "    </tr>\n",
              "  </thead>\n",
              "  <tbody>\n",
              "    <tr>\n",
              "      <th>529</th>\n",
              "      <td>2022-06-10</td>\n",
              "      <td>Ford Motor Company</td>\n",
              "      <td>Unintentional Rollaway Due to Detached Shift C...</td>\n",
              "      <td>POWER TRAIN</td>\n",
              "      <td>Vehicle</td>\n",
              "      <td>2925968.0</td>\n",
              "      <td>Ford Motor Company (Ford) is recalling certain...</td>\n",
              "      <td>A damaged or missing bushing may prevent the v...</td>\n",
              "      <td>Dealers will replace the under hood shift bush...</td>\n",
              "    </tr>\n",
              "  </tbody>\n",
              "</table>\n",
              "</div>\n",
              "      <button class=\"colab-df-convert\" onclick=\"convertToInteractive('df-05752db8-7e11-4a96-9c8f-86d32a12fd1a')\"\n",
              "              title=\"Convert this dataframe to an interactive table.\"\n",
              "              style=\"display:none;\">\n",
              "        \n",
              "  <svg xmlns=\"http://www.w3.org/2000/svg\" height=\"24px\"viewBox=\"0 0 24 24\"\n",
              "       width=\"24px\">\n",
              "    <path d=\"M0 0h24v24H0V0z\" fill=\"none\"/>\n",
              "    <path d=\"M18.56 5.44l.94 2.06.94-2.06 2.06-.94-2.06-.94-.94-2.06-.94 2.06-2.06.94zm-11 1L8.5 8.5l.94-2.06 2.06-.94-2.06-.94L8.5 2.5l-.94 2.06-2.06.94zm10 10l.94 2.06.94-2.06 2.06-.94-2.06-.94-.94-2.06-.94 2.06-2.06.94z\"/><path d=\"M17.41 7.96l-1.37-1.37c-.4-.4-.92-.59-1.43-.59-.52 0-1.04.2-1.43.59L10.3 9.45l-7.72 7.72c-.78.78-.78 2.05 0 2.83L4 21.41c.39.39.9.59 1.41.59.51 0 1.02-.2 1.41-.59l7.78-7.78 2.81-2.81c.8-.78.8-2.07 0-2.86zM5.41 20L4 18.59l7.72-7.72 1.47 1.35L5.41 20z\"/>\n",
              "  </svg>\n",
              "      </button>\n",
              "      \n",
              "  <style>\n",
              "    .colab-df-container {\n",
              "      display:flex;\n",
              "      flex-wrap:wrap;\n",
              "      gap: 12px;\n",
              "    }\n",
              "\n",
              "    .colab-df-convert {\n",
              "      background-color: #E8F0FE;\n",
              "      border: none;\n",
              "      border-radius: 50%;\n",
              "      cursor: pointer;\n",
              "      display: none;\n",
              "      fill: #1967D2;\n",
              "      height: 32px;\n",
              "      padding: 0 0 0 0;\n",
              "      width: 32px;\n",
              "    }\n",
              "\n",
              "    .colab-df-convert:hover {\n",
              "      background-color: #E2EBFA;\n",
              "      box-shadow: 0px 1px 2px rgba(60, 64, 67, 0.3), 0px 1px 3px 1px rgba(60, 64, 67, 0.15);\n",
              "      fill: #174EA6;\n",
              "    }\n",
              "\n",
              "    [theme=dark] .colab-df-convert {\n",
              "      background-color: #3B4455;\n",
              "      fill: #D2E3FC;\n",
              "    }\n",
              "\n",
              "    [theme=dark] .colab-df-convert:hover {\n",
              "      background-color: #434B5C;\n",
              "      box-shadow: 0px 1px 3px 1px rgba(0, 0, 0, 0.15);\n",
              "      filter: drop-shadow(0px 1px 2px rgba(0, 0, 0, 0.3));\n",
              "      fill: #FFFFFF;\n",
              "    }\n",
              "  </style>\n",
              "\n",
              "      <script>\n",
              "        const buttonEl =\n",
              "          document.querySelector('#df-05752db8-7e11-4a96-9c8f-86d32a12fd1a button.colab-df-convert');\n",
              "        buttonEl.style.display =\n",
              "          google.colab.kernel.accessAllowed ? 'block' : 'none';\n",
              "\n",
              "        async function convertToInteractive(key) {\n",
              "          const element = document.querySelector('#df-05752db8-7e11-4a96-9c8f-86d32a12fd1a');\n",
              "          const dataTable =\n",
              "            await google.colab.kernel.invokeFunction('convertToInteractive',\n",
              "                                                     [key], {});\n",
              "          if (!dataTable) return;\n",
              "\n",
              "          const docLinkHtml = 'Like what you see? Visit the ' +\n",
              "            '<a target=\"_blank\" href=https://colab.research.google.com/notebooks/data_table.ipynb>data table notebook</a>'\n",
              "            + ' to learn more about interactive tables.';\n",
              "          element.innerHTML = '';\n",
              "          dataTable['output_type'] = 'display_data';\n",
              "          await google.colab.output.renderOutput(dataTable, element);\n",
              "          const docLink = document.createElement('div');\n",
              "          docLink.innerHTML = docLinkHtml;\n",
              "          element.appendChild(docLink);\n",
              "        }\n",
              "      </script>\n",
              "    </div>\n",
              "  </div>\n",
              "  "
            ]
          },
          "metadata": {},
          "execution_count": 51
        }
      ]
    },
    {
      "cell_type": "markdown",
      "source": [
        "**General Motors**"
      ],
      "metadata": {
        "id": "JTJSx4Jbwemj"
      }
    },
    {
      "cell_type": "code",
      "source": [
        "USdataGM = USdata[(USdata.manufacturer == \"General Motors, LLC\")]"
      ],
      "metadata": {
        "id": "dD002ucOqgPA"
      },
      "execution_count": 52,
      "outputs": []
    },
    {
      "cell_type": "code",
      "source": [
        "USdataGM=USdataGM.query('potentially_affected == potentially_affected.max()')"
      ],
      "metadata": {
        "id": "LkdkU_wFvsue"
      },
      "execution_count": 53,
      "outputs": []
    },
    {
      "cell_type": "code",
      "source": [
        "USdataGM"
      ],
      "metadata": {
        "colab": {
          "base_uri": "https://localhost:8080/",
          "height": 142
        },
        "id": "9VKPsqx8vy30",
        "outputId": "4153cab6-e0db-4e9d-9507-0b3aac3a69f4"
      },
      "execution_count": 54,
      "outputs": [
        {
          "output_type": "execute_result",
          "data": {
            "text/plain": [
              "     report_received_date         manufacturer  \\\n",
              "5595           2016-09-08  General Motors, LLC   \n",
              "\n",
              "                              subject component recall_type  \\\n",
              "5595  Frontal Air Bags May Not Deploy  AIR BAGS     Vehicle   \n",
              "\n",
              "      potentially_affected                                 recall_description  \\\n",
              "5595             3640162.0  General Motors LLC (GM) is recalling certain m...   \n",
              "\n",
              "                                    consequence_summary  \\\n",
              "5595  A failure of the front air bags or seat belt p...   \n",
              "\n",
              "                                      corrective_action  \n",
              "5595  GM will notify owners, and dealers will reflas...  "
            ],
            "text/html": [
              "\n",
              "  <div id=\"df-7ca999b8-4935-47d3-a90d-45af5f7263ef\">\n",
              "    <div class=\"colab-df-container\">\n",
              "      <div>\n",
              "<style scoped>\n",
              "    .dataframe tbody tr th:only-of-type {\n",
              "        vertical-align: middle;\n",
              "    }\n",
              "\n",
              "    .dataframe tbody tr th {\n",
              "        vertical-align: top;\n",
              "    }\n",
              "\n",
              "    .dataframe thead th {\n",
              "        text-align: right;\n",
              "    }\n",
              "</style>\n",
              "<table border=\"1\" class=\"dataframe\">\n",
              "  <thead>\n",
              "    <tr style=\"text-align: right;\">\n",
              "      <th></th>\n",
              "      <th>report_received_date</th>\n",
              "      <th>manufacturer</th>\n",
              "      <th>subject</th>\n",
              "      <th>component</th>\n",
              "      <th>recall_type</th>\n",
              "      <th>potentially_affected</th>\n",
              "      <th>recall_description</th>\n",
              "      <th>consequence_summary</th>\n",
              "      <th>corrective_action</th>\n",
              "    </tr>\n",
              "  </thead>\n",
              "  <tbody>\n",
              "    <tr>\n",
              "      <th>5595</th>\n",
              "      <td>2016-09-08</td>\n",
              "      <td>General Motors, LLC</td>\n",
              "      <td>Frontal Air Bags May Not Deploy</td>\n",
              "      <td>AIR BAGS</td>\n",
              "      <td>Vehicle</td>\n",
              "      <td>3640162.0</td>\n",
              "      <td>General Motors LLC (GM) is recalling certain m...</td>\n",
              "      <td>A failure of the front air bags or seat belt p...</td>\n",
              "      <td>GM will notify owners, and dealers will reflas...</td>\n",
              "    </tr>\n",
              "  </tbody>\n",
              "</table>\n",
              "</div>\n",
              "      <button class=\"colab-df-convert\" onclick=\"convertToInteractive('df-7ca999b8-4935-47d3-a90d-45af5f7263ef')\"\n",
              "              title=\"Convert this dataframe to an interactive table.\"\n",
              "              style=\"display:none;\">\n",
              "        \n",
              "  <svg xmlns=\"http://www.w3.org/2000/svg\" height=\"24px\"viewBox=\"0 0 24 24\"\n",
              "       width=\"24px\">\n",
              "    <path d=\"M0 0h24v24H0V0z\" fill=\"none\"/>\n",
              "    <path d=\"M18.56 5.44l.94 2.06.94-2.06 2.06-.94-2.06-.94-.94-2.06-.94 2.06-2.06.94zm-11 1L8.5 8.5l.94-2.06 2.06-.94-2.06-.94L8.5 2.5l-.94 2.06-2.06.94zm10 10l.94 2.06.94-2.06 2.06-.94-2.06-.94-.94-2.06-.94 2.06-2.06.94z\"/><path d=\"M17.41 7.96l-1.37-1.37c-.4-.4-.92-.59-1.43-.59-.52 0-1.04.2-1.43.59L10.3 9.45l-7.72 7.72c-.78.78-.78 2.05 0 2.83L4 21.41c.39.39.9.59 1.41.59.51 0 1.02-.2 1.41-.59l7.78-7.78 2.81-2.81c.8-.78.8-2.07 0-2.86zM5.41 20L4 18.59l7.72-7.72 1.47 1.35L5.41 20z\"/>\n",
              "  </svg>\n",
              "      </button>\n",
              "      \n",
              "  <style>\n",
              "    .colab-df-container {\n",
              "      display:flex;\n",
              "      flex-wrap:wrap;\n",
              "      gap: 12px;\n",
              "    }\n",
              "\n",
              "    .colab-df-convert {\n",
              "      background-color: #E8F0FE;\n",
              "      border: none;\n",
              "      border-radius: 50%;\n",
              "      cursor: pointer;\n",
              "      display: none;\n",
              "      fill: #1967D2;\n",
              "      height: 32px;\n",
              "      padding: 0 0 0 0;\n",
              "      width: 32px;\n",
              "    }\n",
              "\n",
              "    .colab-df-convert:hover {\n",
              "      background-color: #E2EBFA;\n",
              "      box-shadow: 0px 1px 2px rgba(60, 64, 67, 0.3), 0px 1px 3px 1px rgba(60, 64, 67, 0.15);\n",
              "      fill: #174EA6;\n",
              "    }\n",
              "\n",
              "    [theme=dark] .colab-df-convert {\n",
              "      background-color: #3B4455;\n",
              "      fill: #D2E3FC;\n",
              "    }\n",
              "\n",
              "    [theme=dark] .colab-df-convert:hover {\n",
              "      background-color: #434B5C;\n",
              "      box-shadow: 0px 1px 3px 1px rgba(0, 0, 0, 0.15);\n",
              "      filter: drop-shadow(0px 1px 2px rgba(0, 0, 0, 0.3));\n",
              "      fill: #FFFFFF;\n",
              "    }\n",
              "  </style>\n",
              "\n",
              "      <script>\n",
              "        const buttonEl =\n",
              "          document.querySelector('#df-7ca999b8-4935-47d3-a90d-45af5f7263ef button.colab-df-convert');\n",
              "        buttonEl.style.display =\n",
              "          google.colab.kernel.accessAllowed ? 'block' : 'none';\n",
              "\n",
              "        async function convertToInteractive(key) {\n",
              "          const element = document.querySelector('#df-7ca999b8-4935-47d3-a90d-45af5f7263ef');\n",
              "          const dataTable =\n",
              "            await google.colab.kernel.invokeFunction('convertToInteractive',\n",
              "                                                     [key], {});\n",
              "          if (!dataTable) return;\n",
              "\n",
              "          const docLinkHtml = 'Like what you see? Visit the ' +\n",
              "            '<a target=\"_blank\" href=https://colab.research.google.com/notebooks/data_table.ipynb>data table notebook</a>'\n",
              "            + ' to learn more about interactive tables.';\n",
              "          element.innerHTML = '';\n",
              "          dataTable['output_type'] = 'display_data';\n",
              "          await google.colab.output.renderOutput(dataTable, element);\n",
              "          const docLink = document.createElement('div');\n",
              "          docLink.innerHTML = docLinkHtml;\n",
              "          element.appendChild(docLink);\n",
              "        }\n",
              "      </script>\n",
              "    </div>\n",
              "  </div>\n",
              "  "
            ]
          },
          "metadata": {},
          "execution_count": 54
        }
      ]
    },
    {
      "cell_type": "markdown",
      "source": [
        "**Chrysler**"
      ],
      "metadata": {
        "id": "pfRI60ePwiC5"
      }
    },
    {
      "cell_type": "code",
      "source": [
        "USdataCHRY = USdata[(USdata.manufacturer == \"Chrysler (FCA US, LLC)\")]"
      ],
      "metadata": {
        "id": "1-cgVrkCwdma"
      },
      "execution_count": 55,
      "outputs": []
    },
    {
      "cell_type": "code",
      "source": [
        "USdataCHRY=USdataCHRY.query('potentially_affected == potentially_affected.max()')"
      ],
      "metadata": {
        "id": "yHbmd-nfwstd"
      },
      "execution_count": 56,
      "outputs": []
    },
    {
      "cell_type": "code",
      "source": [
        "USdataCHRY"
      ],
      "metadata": {
        "colab": {
          "base_uri": "https://localhost:8080/",
          "height": 159
        },
        "id": "j47Hw4aRwxkR",
        "outputId": "e3df4848-f359-4de0-a63c-c4290d6cbfa1"
      },
      "execution_count": 57,
      "outputs": [
        {
          "output_type": "execute_result",
          "data": {
            "text/plain": [
              "     report_received_date            manufacturer  \\\n",
              "4171           2018-05-17  Chrysler (FCA US, LLC)   \n",
              "\n",
              "                                 subject          component recall_type  \\\n",
              "4171  Cruise Control cannot be Cancelled  ELECTRICAL SYSTEM     Vehicle   \n",
              "\n",
              "      potentially_affected                                 recall_description  \\\n",
              "4171             4815661.0  Chrysler (FCA US LLC) is recalling certain 201...   \n",
              "\n",
              "                                    consequence_summary  \\\n",
              "4171  If the vehicle maintains its speed or accelera...   \n",
              "\n",
              "                                      corrective_action  \n",
              "4171  Chrysler will notify owners, and dealers will ...  "
            ],
            "text/html": [
              "\n",
              "  <div id=\"df-43a1ed45-0235-4940-8586-784ec2e3c169\">\n",
              "    <div class=\"colab-df-container\">\n",
              "      <div>\n",
              "<style scoped>\n",
              "    .dataframe tbody tr th:only-of-type {\n",
              "        vertical-align: middle;\n",
              "    }\n",
              "\n",
              "    .dataframe tbody tr th {\n",
              "        vertical-align: top;\n",
              "    }\n",
              "\n",
              "    .dataframe thead th {\n",
              "        text-align: right;\n",
              "    }\n",
              "</style>\n",
              "<table border=\"1\" class=\"dataframe\">\n",
              "  <thead>\n",
              "    <tr style=\"text-align: right;\">\n",
              "      <th></th>\n",
              "      <th>report_received_date</th>\n",
              "      <th>manufacturer</th>\n",
              "      <th>subject</th>\n",
              "      <th>component</th>\n",
              "      <th>recall_type</th>\n",
              "      <th>potentially_affected</th>\n",
              "      <th>recall_description</th>\n",
              "      <th>consequence_summary</th>\n",
              "      <th>corrective_action</th>\n",
              "    </tr>\n",
              "  </thead>\n",
              "  <tbody>\n",
              "    <tr>\n",
              "      <th>4171</th>\n",
              "      <td>2018-05-17</td>\n",
              "      <td>Chrysler (FCA US, LLC)</td>\n",
              "      <td>Cruise Control cannot be Cancelled</td>\n",
              "      <td>ELECTRICAL SYSTEM</td>\n",
              "      <td>Vehicle</td>\n",
              "      <td>4815661.0</td>\n",
              "      <td>Chrysler (FCA US LLC) is recalling certain 201...</td>\n",
              "      <td>If the vehicle maintains its speed or accelera...</td>\n",
              "      <td>Chrysler will notify owners, and dealers will ...</td>\n",
              "    </tr>\n",
              "  </tbody>\n",
              "</table>\n",
              "</div>\n",
              "      <button class=\"colab-df-convert\" onclick=\"convertToInteractive('df-43a1ed45-0235-4940-8586-784ec2e3c169')\"\n",
              "              title=\"Convert this dataframe to an interactive table.\"\n",
              "              style=\"display:none;\">\n",
              "        \n",
              "  <svg xmlns=\"http://www.w3.org/2000/svg\" height=\"24px\"viewBox=\"0 0 24 24\"\n",
              "       width=\"24px\">\n",
              "    <path d=\"M0 0h24v24H0V0z\" fill=\"none\"/>\n",
              "    <path d=\"M18.56 5.44l.94 2.06.94-2.06 2.06-.94-2.06-.94-.94-2.06-.94 2.06-2.06.94zm-11 1L8.5 8.5l.94-2.06 2.06-.94-2.06-.94L8.5 2.5l-.94 2.06-2.06.94zm10 10l.94 2.06.94-2.06 2.06-.94-2.06-.94-.94-2.06-.94 2.06-2.06.94z\"/><path d=\"M17.41 7.96l-1.37-1.37c-.4-.4-.92-.59-1.43-.59-.52 0-1.04.2-1.43.59L10.3 9.45l-7.72 7.72c-.78.78-.78 2.05 0 2.83L4 21.41c.39.39.9.59 1.41.59.51 0 1.02-.2 1.41-.59l7.78-7.78 2.81-2.81c.8-.78.8-2.07 0-2.86zM5.41 20L4 18.59l7.72-7.72 1.47 1.35L5.41 20z\"/>\n",
              "  </svg>\n",
              "      </button>\n",
              "      \n",
              "  <style>\n",
              "    .colab-df-container {\n",
              "      display:flex;\n",
              "      flex-wrap:wrap;\n",
              "      gap: 12px;\n",
              "    }\n",
              "\n",
              "    .colab-df-convert {\n",
              "      background-color: #E8F0FE;\n",
              "      border: none;\n",
              "      border-radius: 50%;\n",
              "      cursor: pointer;\n",
              "      display: none;\n",
              "      fill: #1967D2;\n",
              "      height: 32px;\n",
              "      padding: 0 0 0 0;\n",
              "      width: 32px;\n",
              "    }\n",
              "\n",
              "    .colab-df-convert:hover {\n",
              "      background-color: #E2EBFA;\n",
              "      box-shadow: 0px 1px 2px rgba(60, 64, 67, 0.3), 0px 1px 3px 1px rgba(60, 64, 67, 0.15);\n",
              "      fill: #174EA6;\n",
              "    }\n",
              "\n",
              "    [theme=dark] .colab-df-convert {\n",
              "      background-color: #3B4455;\n",
              "      fill: #D2E3FC;\n",
              "    }\n",
              "\n",
              "    [theme=dark] .colab-df-convert:hover {\n",
              "      background-color: #434B5C;\n",
              "      box-shadow: 0px 1px 3px 1px rgba(0, 0, 0, 0.15);\n",
              "      filter: drop-shadow(0px 1px 2px rgba(0, 0, 0, 0.3));\n",
              "      fill: #FFFFFF;\n",
              "    }\n",
              "  </style>\n",
              "\n",
              "      <script>\n",
              "        const buttonEl =\n",
              "          document.querySelector('#df-43a1ed45-0235-4940-8586-784ec2e3c169 button.colab-df-convert');\n",
              "        buttonEl.style.display =\n",
              "          google.colab.kernel.accessAllowed ? 'block' : 'none';\n",
              "\n",
              "        async function convertToInteractive(key) {\n",
              "          const element = document.querySelector('#df-43a1ed45-0235-4940-8586-784ec2e3c169');\n",
              "          const dataTable =\n",
              "            await google.colab.kernel.invokeFunction('convertToInteractive',\n",
              "                                                     [key], {});\n",
              "          if (!dataTable) return;\n",
              "\n",
              "          const docLinkHtml = 'Like what you see? Visit the ' +\n",
              "            '<a target=\"_blank\" href=https://colab.research.google.com/notebooks/data_table.ipynb>data table notebook</a>'\n",
              "            + ' to learn more about interactive tables.';\n",
              "          element.innerHTML = '';\n",
              "          dataTable['output_type'] = 'display_data';\n",
              "          await google.colab.output.renderOutput(dataTable, element);\n",
              "          const docLink = document.createElement('div');\n",
              "          docLink.innerHTML = docLinkHtml;\n",
              "          element.appendChild(docLink);\n",
              "        }\n",
              "      </script>\n",
              "    </div>\n",
              "  </div>\n",
              "  "
            ]
          },
          "metadata": {},
          "execution_count": 57
        }
      ]
    },
    {
      "cell_type": "markdown",
      "source": [
        "**BMW**"
      ],
      "metadata": {
        "id": "w-BUziM2xHXZ"
      }
    },
    {
      "cell_type": "code",
      "source": [
        "USdataBMW = USdata[(USdata.manufacturer == \"BMW of North America, LLC\")]"
      ],
      "metadata": {
        "id": "CQGjG6tjxG9X"
      },
      "execution_count": 58,
      "outputs": []
    },
    {
      "cell_type": "code",
      "source": [
        "USdataBMW=USdataBMW.query('potentially_affected == potentially_affected.max()')"
      ],
      "metadata": {
        "id": "W9XuY7kaxYQh"
      },
      "execution_count": 59,
      "outputs": []
    },
    {
      "cell_type": "code",
      "source": [
        "USdataBMW"
      ],
      "metadata": {
        "colab": {
          "base_uri": "https://localhost:8080/",
          "height": 159
        },
        "id": "BLASKoFhxekB",
        "outputId": "cbfa0905-3052-4140-a43b-b9a6ee95945b"
      },
      "execution_count": 60,
      "outputs": [
        {
          "output_type": "execute_result",
          "data": {
            "text/plain": [
              "    report_received_date               manufacturer  \\\n",
              "819           2022-03-02  BMW of North America, LLC   \n",
              "\n",
              "                          subject                  component recall_type  \\\n",
              "819  PCV Heater May Short Circuit  ENGINE AND ENGINE COOLING     Vehicle   \n",
              "\n",
              "     potentially_affected                                 recall_description  \\\n",
              "819              917106.0  BMW of North America, LLC (BMW) is recalling c...   \n",
              "\n",
              "                                   consequence_summary  \\\n",
              "819  An electrical short can cause the PCV valve he...   \n",
              "\n",
              "                                     corrective_action  \n",
              "819  This recall supersedes and expands previous NH...  "
            ],
            "text/html": [
              "\n",
              "  <div id=\"df-98c18a2e-26d2-42b3-b0ac-131e0fec7d63\">\n",
              "    <div class=\"colab-df-container\">\n",
              "      <div>\n",
              "<style scoped>\n",
              "    .dataframe tbody tr th:only-of-type {\n",
              "        vertical-align: middle;\n",
              "    }\n",
              "\n",
              "    .dataframe tbody tr th {\n",
              "        vertical-align: top;\n",
              "    }\n",
              "\n",
              "    .dataframe thead th {\n",
              "        text-align: right;\n",
              "    }\n",
              "</style>\n",
              "<table border=\"1\" class=\"dataframe\">\n",
              "  <thead>\n",
              "    <tr style=\"text-align: right;\">\n",
              "      <th></th>\n",
              "      <th>report_received_date</th>\n",
              "      <th>manufacturer</th>\n",
              "      <th>subject</th>\n",
              "      <th>component</th>\n",
              "      <th>recall_type</th>\n",
              "      <th>potentially_affected</th>\n",
              "      <th>recall_description</th>\n",
              "      <th>consequence_summary</th>\n",
              "      <th>corrective_action</th>\n",
              "    </tr>\n",
              "  </thead>\n",
              "  <tbody>\n",
              "    <tr>\n",
              "      <th>819</th>\n",
              "      <td>2022-03-02</td>\n",
              "      <td>BMW of North America, LLC</td>\n",
              "      <td>PCV Heater May Short Circuit</td>\n",
              "      <td>ENGINE AND ENGINE COOLING</td>\n",
              "      <td>Vehicle</td>\n",
              "      <td>917106.0</td>\n",
              "      <td>BMW of North America, LLC (BMW) is recalling c...</td>\n",
              "      <td>An electrical short can cause the PCV valve he...</td>\n",
              "      <td>This recall supersedes and expands previous NH...</td>\n",
              "    </tr>\n",
              "  </tbody>\n",
              "</table>\n",
              "</div>\n",
              "      <button class=\"colab-df-convert\" onclick=\"convertToInteractive('df-98c18a2e-26d2-42b3-b0ac-131e0fec7d63')\"\n",
              "              title=\"Convert this dataframe to an interactive table.\"\n",
              "              style=\"display:none;\">\n",
              "        \n",
              "  <svg xmlns=\"http://www.w3.org/2000/svg\" height=\"24px\"viewBox=\"0 0 24 24\"\n",
              "       width=\"24px\">\n",
              "    <path d=\"M0 0h24v24H0V0z\" fill=\"none\"/>\n",
              "    <path d=\"M18.56 5.44l.94 2.06.94-2.06 2.06-.94-2.06-.94-.94-2.06-.94 2.06-2.06.94zm-11 1L8.5 8.5l.94-2.06 2.06-.94-2.06-.94L8.5 2.5l-.94 2.06-2.06.94zm10 10l.94 2.06.94-2.06 2.06-.94-2.06-.94-.94-2.06-.94 2.06-2.06.94z\"/><path d=\"M17.41 7.96l-1.37-1.37c-.4-.4-.92-.59-1.43-.59-.52 0-1.04.2-1.43.59L10.3 9.45l-7.72 7.72c-.78.78-.78 2.05 0 2.83L4 21.41c.39.39.9.59 1.41.59.51 0 1.02-.2 1.41-.59l7.78-7.78 2.81-2.81c.8-.78.8-2.07 0-2.86zM5.41 20L4 18.59l7.72-7.72 1.47 1.35L5.41 20z\"/>\n",
              "  </svg>\n",
              "      </button>\n",
              "      \n",
              "  <style>\n",
              "    .colab-df-container {\n",
              "      display:flex;\n",
              "      flex-wrap:wrap;\n",
              "      gap: 12px;\n",
              "    }\n",
              "\n",
              "    .colab-df-convert {\n",
              "      background-color: #E8F0FE;\n",
              "      border: none;\n",
              "      border-radius: 50%;\n",
              "      cursor: pointer;\n",
              "      display: none;\n",
              "      fill: #1967D2;\n",
              "      height: 32px;\n",
              "      padding: 0 0 0 0;\n",
              "      width: 32px;\n",
              "    }\n",
              "\n",
              "    .colab-df-convert:hover {\n",
              "      background-color: #E2EBFA;\n",
              "      box-shadow: 0px 1px 2px rgba(60, 64, 67, 0.3), 0px 1px 3px 1px rgba(60, 64, 67, 0.15);\n",
              "      fill: #174EA6;\n",
              "    }\n",
              "\n",
              "    [theme=dark] .colab-df-convert {\n",
              "      background-color: #3B4455;\n",
              "      fill: #D2E3FC;\n",
              "    }\n",
              "\n",
              "    [theme=dark] .colab-df-convert:hover {\n",
              "      background-color: #434B5C;\n",
              "      box-shadow: 0px 1px 3px 1px rgba(0, 0, 0, 0.15);\n",
              "      filter: drop-shadow(0px 1px 2px rgba(0, 0, 0, 0.3));\n",
              "      fill: #FFFFFF;\n",
              "    }\n",
              "  </style>\n",
              "\n",
              "      <script>\n",
              "        const buttonEl =\n",
              "          document.querySelector('#df-98c18a2e-26d2-42b3-b0ac-131e0fec7d63 button.colab-df-convert');\n",
              "        buttonEl.style.display =\n",
              "          google.colab.kernel.accessAllowed ? 'block' : 'none';\n",
              "\n",
              "        async function convertToInteractive(key) {\n",
              "          const element = document.querySelector('#df-98c18a2e-26d2-42b3-b0ac-131e0fec7d63');\n",
              "          const dataTable =\n",
              "            await google.colab.kernel.invokeFunction('convertToInteractive',\n",
              "                                                     [key], {});\n",
              "          if (!dataTable) return;\n",
              "\n",
              "          const docLinkHtml = 'Like what you see? Visit the ' +\n",
              "            '<a target=\"_blank\" href=https://colab.research.google.com/notebooks/data_table.ipynb>data table notebook</a>'\n",
              "            + ' to learn more about interactive tables.';\n",
              "          element.innerHTML = '';\n",
              "          dataTable['output_type'] = 'display_data';\n",
              "          await google.colab.output.renderOutput(dataTable, element);\n",
              "          const docLink = document.createElement('div');\n",
              "          docLink.innerHTML = docLinkHtml;\n",
              "          element.appendChild(docLink);\n",
              "        }\n",
              "      </script>\n",
              "    </div>\n",
              "  </div>\n",
              "  "
            ]
          },
          "metadata": {},
          "execution_count": 60
        }
      ]
    },
    {
      "cell_type": "markdown",
      "source": [
        "**Volkswagen Group of America, Inc.**"
      ],
      "metadata": {
        "id": "q9xHPKgKx4hF"
      }
    },
    {
      "cell_type": "code",
      "source": [
        "USdataVLKW = USdata[(USdata.manufacturer == \"Volkswagen Group of America, Inc.\")]"
      ],
      "metadata": {
        "id": "KQ8sHdeex5km"
      },
      "execution_count": 61,
      "outputs": []
    },
    {
      "cell_type": "code",
      "source": [
        "USdataVLKW=USdataVLKW.query('potentially_affected == potentially_affected.max()')"
      ],
      "metadata": {
        "id": "PbjRY5rJyNng"
      },
      "execution_count": 62,
      "outputs": []
    },
    {
      "cell_type": "code",
      "source": [
        "USdataVLKW"
      ],
      "metadata": {
        "colab": {
          "base_uri": "https://localhost:8080/",
          "height": 159
        },
        "id": "a4X8NUCfyRVt",
        "outputId": "f194ed7b-c6ff-4327-e521-da7c3a097a5e"
      },
      "execution_count": 63,
      "outputs": [
        {
          "output_type": "execute_result",
          "data": {
            "text/plain": [
              "     report_received_date                       manufacturer  \\\n",
              "3000           2019-08-22  Volkswagen Group of America, Inc.   \n",
              "\n",
              "                                  subject          component recall_type  \\\n",
              "3000  Key May Be Removed When Not In Park  ELECTRICAL SYSTEM     Vehicle   \n",
              "\n",
              "      potentially_affected                                 recall_description  \\\n",
              "3000              679027.0  Volkswagen Group of America, Inc. (Volkswagen)...   \n",
              "\n",
              "                                    consequence_summary  \\\n",
              "3000  Removing the key while the shift lever is in a...   \n",
              "\n",
              "                                      corrective_action  \n",
              "3000  Volkswagen will notify owners, and dealers wil...  "
            ],
            "text/html": [
              "\n",
              "  <div id=\"df-678f0fec-b800-4bb1-b200-53d551cb8483\">\n",
              "    <div class=\"colab-df-container\">\n",
              "      <div>\n",
              "<style scoped>\n",
              "    .dataframe tbody tr th:only-of-type {\n",
              "        vertical-align: middle;\n",
              "    }\n",
              "\n",
              "    .dataframe tbody tr th {\n",
              "        vertical-align: top;\n",
              "    }\n",
              "\n",
              "    .dataframe thead th {\n",
              "        text-align: right;\n",
              "    }\n",
              "</style>\n",
              "<table border=\"1\" class=\"dataframe\">\n",
              "  <thead>\n",
              "    <tr style=\"text-align: right;\">\n",
              "      <th></th>\n",
              "      <th>report_received_date</th>\n",
              "      <th>manufacturer</th>\n",
              "      <th>subject</th>\n",
              "      <th>component</th>\n",
              "      <th>recall_type</th>\n",
              "      <th>potentially_affected</th>\n",
              "      <th>recall_description</th>\n",
              "      <th>consequence_summary</th>\n",
              "      <th>corrective_action</th>\n",
              "    </tr>\n",
              "  </thead>\n",
              "  <tbody>\n",
              "    <tr>\n",
              "      <th>3000</th>\n",
              "      <td>2019-08-22</td>\n",
              "      <td>Volkswagen Group of America, Inc.</td>\n",
              "      <td>Key May Be Removed When Not In Park</td>\n",
              "      <td>ELECTRICAL SYSTEM</td>\n",
              "      <td>Vehicle</td>\n",
              "      <td>679027.0</td>\n",
              "      <td>Volkswagen Group of America, Inc. (Volkswagen)...</td>\n",
              "      <td>Removing the key while the shift lever is in a...</td>\n",
              "      <td>Volkswagen will notify owners, and dealers wil...</td>\n",
              "    </tr>\n",
              "  </tbody>\n",
              "</table>\n",
              "</div>\n",
              "      <button class=\"colab-df-convert\" onclick=\"convertToInteractive('df-678f0fec-b800-4bb1-b200-53d551cb8483')\"\n",
              "              title=\"Convert this dataframe to an interactive table.\"\n",
              "              style=\"display:none;\">\n",
              "        \n",
              "  <svg xmlns=\"http://www.w3.org/2000/svg\" height=\"24px\"viewBox=\"0 0 24 24\"\n",
              "       width=\"24px\">\n",
              "    <path d=\"M0 0h24v24H0V0z\" fill=\"none\"/>\n",
              "    <path d=\"M18.56 5.44l.94 2.06.94-2.06 2.06-.94-2.06-.94-.94-2.06-.94 2.06-2.06.94zm-11 1L8.5 8.5l.94-2.06 2.06-.94-2.06-.94L8.5 2.5l-.94 2.06-2.06.94zm10 10l.94 2.06.94-2.06 2.06-.94-2.06-.94-.94-2.06-.94 2.06-2.06.94z\"/><path d=\"M17.41 7.96l-1.37-1.37c-.4-.4-.92-.59-1.43-.59-.52 0-1.04.2-1.43.59L10.3 9.45l-7.72 7.72c-.78.78-.78 2.05 0 2.83L4 21.41c.39.39.9.59 1.41.59.51 0 1.02-.2 1.41-.59l7.78-7.78 2.81-2.81c.8-.78.8-2.07 0-2.86zM5.41 20L4 18.59l7.72-7.72 1.47 1.35L5.41 20z\"/>\n",
              "  </svg>\n",
              "      </button>\n",
              "      \n",
              "  <style>\n",
              "    .colab-df-container {\n",
              "      display:flex;\n",
              "      flex-wrap:wrap;\n",
              "      gap: 12px;\n",
              "    }\n",
              "\n",
              "    .colab-df-convert {\n",
              "      background-color: #E8F0FE;\n",
              "      border: none;\n",
              "      border-radius: 50%;\n",
              "      cursor: pointer;\n",
              "      display: none;\n",
              "      fill: #1967D2;\n",
              "      height: 32px;\n",
              "      padding: 0 0 0 0;\n",
              "      width: 32px;\n",
              "    }\n",
              "\n",
              "    .colab-df-convert:hover {\n",
              "      background-color: #E2EBFA;\n",
              "      box-shadow: 0px 1px 2px rgba(60, 64, 67, 0.3), 0px 1px 3px 1px rgba(60, 64, 67, 0.15);\n",
              "      fill: #174EA6;\n",
              "    }\n",
              "\n",
              "    [theme=dark] .colab-df-convert {\n",
              "      background-color: #3B4455;\n",
              "      fill: #D2E3FC;\n",
              "    }\n",
              "\n",
              "    [theme=dark] .colab-df-convert:hover {\n",
              "      background-color: #434B5C;\n",
              "      box-shadow: 0px 1px 3px 1px rgba(0, 0, 0, 0.15);\n",
              "      filter: drop-shadow(0px 1px 2px rgba(0, 0, 0, 0.3));\n",
              "      fill: #FFFFFF;\n",
              "    }\n",
              "  </style>\n",
              "\n",
              "      <script>\n",
              "        const buttonEl =\n",
              "          document.querySelector('#df-678f0fec-b800-4bb1-b200-53d551cb8483 button.colab-df-convert');\n",
              "        buttonEl.style.display =\n",
              "          google.colab.kernel.accessAllowed ? 'block' : 'none';\n",
              "\n",
              "        async function convertToInteractive(key) {\n",
              "          const element = document.querySelector('#df-678f0fec-b800-4bb1-b200-53d551cb8483');\n",
              "          const dataTable =\n",
              "            await google.colab.kernel.invokeFunction('convertToInteractive',\n",
              "                                                     [key], {});\n",
              "          if (!dataTable) return;\n",
              "\n",
              "          const docLinkHtml = 'Like what you see? Visit the ' +\n",
              "            '<a target=\"_blank\" href=https://colab.research.google.com/notebooks/data_table.ipynb>data table notebook</a>'\n",
              "            + ' to learn more about interactive tables.';\n",
              "          element.innerHTML = '';\n",
              "          dataTable['output_type'] = 'display_data';\n",
              "          await google.colab.output.renderOutput(dataTable, element);\n",
              "          const docLink = document.createElement('div');\n",
              "          docLink.innerHTML = docLinkHtml;\n",
              "          element.appendChild(docLink);\n",
              "        }\n",
              "      </script>\n",
              "    </div>\n",
              "  </div>\n",
              "  "
            ]
          },
          "metadata": {},
          "execution_count": 63
        }
      ]
    }
  ]
}